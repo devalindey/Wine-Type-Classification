{
  "nbformat": 4,
  "nbformat_minor": 0,
  "metadata": {
    "colab": {
      "name": "Wine Type Classification.ipynb",
      "provenance": [],
      "collapsed_sections": [],
      "authorship_tag": "ABX9TyPpRwejZN4tYxf8tIzTupgm"
    },
    "kernelspec": {
      "name": "python3",
      "display_name": "Python 3"
    }
  },
  "cells": [
    {
      "cell_type": "markdown",
      "metadata": {
        "id": "7gaStTLIlqRc",
        "colab_type": "text"
      },
      "source": [
        "# **Wine Type Classification**"
      ]
    },
    {
      "cell_type": "markdown",
      "metadata": {
        "id": "Zi9zEjZ9l19y",
        "colab_type": "text"
      },
      "source": [
        "**Intuition:** We will use Keras to classify the type of Wines into Red or White.\n",
        "\n",
        "**Dataset Source:**\n",
        "1) Red Wine- *http://archive.ics.uci.edu/ml/machine-learning-databases/wine-quality/winequality-red.csv*\n",
        "2) White Wine- *http://archive.ics.uci.edu/ml/machine-learning-databases/wine-quality/winequality-white.csv*"
      ]
    },
    {
      "cell_type": "markdown",
      "metadata": {
        "id": "dhcZG4CzXIKh",
        "colab_type": "text"
      },
      "source": [
        "**Importing the libraries**"
      ]
    },
    {
      "cell_type": "code",
      "metadata": {
        "id": "UPm4AGOJ22vq",
        "colab_type": "code",
        "colab": {
          "base_uri": "https://localhost:8080/",
          "height": 80
        },
        "outputId": "a02b2f8f-0328-4cde-cd51-fd982989da6c"
      },
      "source": [
        "import warnings\n",
        "warnings.filterwarnings('ignore')\n",
        "import csv\n",
        "from requests import Session\n",
        "import pandas as pd\n",
        "import numpy as np\n",
        "import matplotlib.pyplot as plt\n",
        "from keras.models import Sequential\n",
        "from keras.layers import Dense\n",
        "from keras.wrappers.scikit_learn import KerasClassifier\n",
        "from keras.utils import np_utils\n",
        "from sklearn.model_selection import cross_val_score, KFold, train_test_split\n",
        "from sklearn.preprocessing import LabelEncoder, StandardScaler\n",
        "from sklearn.pipeline import Pipeline\n",
        "from keras.utils.vis_utils import plot_model\n",
        "from sklearn.metrics import confusion_matrix, f1_score, accuracy_score"
      ],
      "execution_count": 1,
      "outputs": [
        {
          "output_type": "stream",
          "text": [
            "Using TensorFlow backend.\n"
          ],
          "name": "stderr"
        },
        {
          "output_type": "display_data",
          "data": {
            "text/html": [
              "<p style=\"color: red;\">\n",
              "The default version of TensorFlow in Colab will soon switch to TensorFlow 2.x.<br>\n",
              "We recommend you <a href=\"https://www.tensorflow.org/guide/migrate\" target=\"_blank\">upgrade</a> now \n",
              "or ensure your notebook will continue to use TensorFlow 1.x via the <code>%tensorflow_version 1.x</code> magic:\n",
              "<a href=\"https://colab.research.google.com/notebooks/tensorflow_version.ipynb\" target=\"_blank\">more info</a>.</p>\n"
            ],
            "text/plain": [
              "<IPython.core.display.HTML object>"
            ]
          },
          "metadata": {
            "tags": []
          }
        }
      ]
    },
    {
      "cell_type": "markdown",
      "metadata": {
        "id": "ZC22uA5iXSKc",
        "colab_type": "text"
      },
      "source": [
        "**Importing the Datasets**"
      ]
    },
    {
      "cell_type": "code",
      "metadata": {
        "id": "DIRUXqlUH4_-",
        "colab_type": "code",
        "colab": {}
      },
      "source": [
        "red_wine = pd.read_csv(\"http://archive.ics.uci.edu/ml/machine-learning-databases/wine-quality/winequality-red.csv\", sep =';')\n",
        "white_wine = pd.read_csv(\"http://archive.ics.uci.edu/ml/machine-learning-databases/wine-quality/winequality-white.csv\", sep =';')"
      ],
      "execution_count": 0,
      "outputs": []
    },
    {
      "cell_type": "markdown",
      "metadata": {
        "id": "MqW3sisKXZOI",
        "colab_type": "text"
      },
      "source": [
        "**Description of the Datasets**"
      ]
    },
    {
      "cell_type": "code",
      "metadata": {
        "id": "AYCfbtwmM1XD",
        "colab_type": "code",
        "colab": {
          "base_uri": "https://localhost:8080/",
          "height": 331
        },
        "outputId": "4c54d3de-c020-4bec-fc40-5a631ef26024"
      },
      "source": [
        "red_wine.describe()"
      ],
      "execution_count": 3,
      "outputs": [
        {
          "output_type": "execute_result",
          "data": {
            "text/html": [
              "<div>\n",
              "<style scoped>\n",
              "    .dataframe tbody tr th:only-of-type {\n",
              "        vertical-align: middle;\n",
              "    }\n",
              "\n",
              "    .dataframe tbody tr th {\n",
              "        vertical-align: top;\n",
              "    }\n",
              "\n",
              "    .dataframe thead th {\n",
              "        text-align: right;\n",
              "    }\n",
              "</style>\n",
              "<table border=\"1\" class=\"dataframe\">\n",
              "  <thead>\n",
              "    <tr style=\"text-align: right;\">\n",
              "      <th></th>\n",
              "      <th>fixed acidity</th>\n",
              "      <th>volatile acidity</th>\n",
              "      <th>citric acid</th>\n",
              "      <th>residual sugar</th>\n",
              "      <th>chlorides</th>\n",
              "      <th>free sulfur dioxide</th>\n",
              "      <th>total sulfur dioxide</th>\n",
              "      <th>density</th>\n",
              "      <th>pH</th>\n",
              "      <th>sulphates</th>\n",
              "      <th>alcohol</th>\n",
              "      <th>quality</th>\n",
              "    </tr>\n",
              "  </thead>\n",
              "  <tbody>\n",
              "    <tr>\n",
              "      <th>count</th>\n",
              "      <td>1599.000000</td>\n",
              "      <td>1599.000000</td>\n",
              "      <td>1599.000000</td>\n",
              "      <td>1599.000000</td>\n",
              "      <td>1599.000000</td>\n",
              "      <td>1599.000000</td>\n",
              "      <td>1599.000000</td>\n",
              "      <td>1599.000000</td>\n",
              "      <td>1599.000000</td>\n",
              "      <td>1599.000000</td>\n",
              "      <td>1599.000000</td>\n",
              "      <td>1599.000000</td>\n",
              "    </tr>\n",
              "    <tr>\n",
              "      <th>mean</th>\n",
              "      <td>8.319637</td>\n",
              "      <td>0.527821</td>\n",
              "      <td>0.270976</td>\n",
              "      <td>2.538806</td>\n",
              "      <td>0.087467</td>\n",
              "      <td>15.874922</td>\n",
              "      <td>46.467792</td>\n",
              "      <td>0.996747</td>\n",
              "      <td>3.311113</td>\n",
              "      <td>0.658149</td>\n",
              "      <td>10.422983</td>\n",
              "      <td>5.636023</td>\n",
              "    </tr>\n",
              "    <tr>\n",
              "      <th>std</th>\n",
              "      <td>1.741096</td>\n",
              "      <td>0.179060</td>\n",
              "      <td>0.194801</td>\n",
              "      <td>1.409928</td>\n",
              "      <td>0.047065</td>\n",
              "      <td>10.460157</td>\n",
              "      <td>32.895324</td>\n",
              "      <td>0.001887</td>\n",
              "      <td>0.154386</td>\n",
              "      <td>0.169507</td>\n",
              "      <td>1.065668</td>\n",
              "      <td>0.807569</td>\n",
              "    </tr>\n",
              "    <tr>\n",
              "      <th>min</th>\n",
              "      <td>4.600000</td>\n",
              "      <td>0.120000</td>\n",
              "      <td>0.000000</td>\n",
              "      <td>0.900000</td>\n",
              "      <td>0.012000</td>\n",
              "      <td>1.000000</td>\n",
              "      <td>6.000000</td>\n",
              "      <td>0.990070</td>\n",
              "      <td>2.740000</td>\n",
              "      <td>0.330000</td>\n",
              "      <td>8.400000</td>\n",
              "      <td>3.000000</td>\n",
              "    </tr>\n",
              "    <tr>\n",
              "      <th>25%</th>\n",
              "      <td>7.100000</td>\n",
              "      <td>0.390000</td>\n",
              "      <td>0.090000</td>\n",
              "      <td>1.900000</td>\n",
              "      <td>0.070000</td>\n",
              "      <td>7.000000</td>\n",
              "      <td>22.000000</td>\n",
              "      <td>0.995600</td>\n",
              "      <td>3.210000</td>\n",
              "      <td>0.550000</td>\n",
              "      <td>9.500000</td>\n",
              "      <td>5.000000</td>\n",
              "    </tr>\n",
              "    <tr>\n",
              "      <th>50%</th>\n",
              "      <td>7.900000</td>\n",
              "      <td>0.520000</td>\n",
              "      <td>0.260000</td>\n",
              "      <td>2.200000</td>\n",
              "      <td>0.079000</td>\n",
              "      <td>14.000000</td>\n",
              "      <td>38.000000</td>\n",
              "      <td>0.996750</td>\n",
              "      <td>3.310000</td>\n",
              "      <td>0.620000</td>\n",
              "      <td>10.200000</td>\n",
              "      <td>6.000000</td>\n",
              "    </tr>\n",
              "    <tr>\n",
              "      <th>75%</th>\n",
              "      <td>9.200000</td>\n",
              "      <td>0.640000</td>\n",
              "      <td>0.420000</td>\n",
              "      <td>2.600000</td>\n",
              "      <td>0.090000</td>\n",
              "      <td>21.000000</td>\n",
              "      <td>62.000000</td>\n",
              "      <td>0.997835</td>\n",
              "      <td>3.400000</td>\n",
              "      <td>0.730000</td>\n",
              "      <td>11.100000</td>\n",
              "      <td>6.000000</td>\n",
              "    </tr>\n",
              "    <tr>\n",
              "      <th>max</th>\n",
              "      <td>15.900000</td>\n",
              "      <td>1.580000</td>\n",
              "      <td>1.000000</td>\n",
              "      <td>15.500000</td>\n",
              "      <td>0.611000</td>\n",
              "      <td>72.000000</td>\n",
              "      <td>289.000000</td>\n",
              "      <td>1.003690</td>\n",
              "      <td>4.010000</td>\n",
              "      <td>2.000000</td>\n",
              "      <td>14.900000</td>\n",
              "      <td>8.000000</td>\n",
              "    </tr>\n",
              "  </tbody>\n",
              "</table>\n",
              "</div>"
            ],
            "text/plain": [
              "       fixed acidity  volatile acidity  ...      alcohol      quality\n",
              "count    1599.000000       1599.000000  ...  1599.000000  1599.000000\n",
              "mean        8.319637          0.527821  ...    10.422983     5.636023\n",
              "std         1.741096          0.179060  ...     1.065668     0.807569\n",
              "min         4.600000          0.120000  ...     8.400000     3.000000\n",
              "25%         7.100000          0.390000  ...     9.500000     5.000000\n",
              "50%         7.900000          0.520000  ...    10.200000     6.000000\n",
              "75%         9.200000          0.640000  ...    11.100000     6.000000\n",
              "max        15.900000          1.580000  ...    14.900000     8.000000\n",
              "\n",
              "[8 rows x 12 columns]"
            ]
          },
          "metadata": {
            "tags": []
          },
          "execution_count": 3
        }
      ]
    },
    {
      "cell_type": "code",
      "metadata": {
        "id": "hn2vrYPiM8T1",
        "colab_type": "code",
        "colab": {
          "base_uri": "https://localhost:8080/",
          "height": 331
        },
        "outputId": "81fd47bc-05ce-49b9-8562-9af96b60679d"
      },
      "source": [
        "white_wine.describe()"
      ],
      "execution_count": 4,
      "outputs": [
        {
          "output_type": "execute_result",
          "data": {
            "text/html": [
              "<div>\n",
              "<style scoped>\n",
              "    .dataframe tbody tr th:only-of-type {\n",
              "        vertical-align: middle;\n",
              "    }\n",
              "\n",
              "    .dataframe tbody tr th {\n",
              "        vertical-align: top;\n",
              "    }\n",
              "\n",
              "    .dataframe thead th {\n",
              "        text-align: right;\n",
              "    }\n",
              "</style>\n",
              "<table border=\"1\" class=\"dataframe\">\n",
              "  <thead>\n",
              "    <tr style=\"text-align: right;\">\n",
              "      <th></th>\n",
              "      <th>fixed acidity</th>\n",
              "      <th>volatile acidity</th>\n",
              "      <th>citric acid</th>\n",
              "      <th>residual sugar</th>\n",
              "      <th>chlorides</th>\n",
              "      <th>free sulfur dioxide</th>\n",
              "      <th>total sulfur dioxide</th>\n",
              "      <th>density</th>\n",
              "      <th>pH</th>\n",
              "      <th>sulphates</th>\n",
              "      <th>alcohol</th>\n",
              "      <th>quality</th>\n",
              "    </tr>\n",
              "  </thead>\n",
              "  <tbody>\n",
              "    <tr>\n",
              "      <th>count</th>\n",
              "      <td>4898.000000</td>\n",
              "      <td>4898.000000</td>\n",
              "      <td>4898.000000</td>\n",
              "      <td>4898.000000</td>\n",
              "      <td>4898.000000</td>\n",
              "      <td>4898.000000</td>\n",
              "      <td>4898.000000</td>\n",
              "      <td>4898.000000</td>\n",
              "      <td>4898.000000</td>\n",
              "      <td>4898.000000</td>\n",
              "      <td>4898.000000</td>\n",
              "      <td>4898.000000</td>\n",
              "    </tr>\n",
              "    <tr>\n",
              "      <th>mean</th>\n",
              "      <td>6.854788</td>\n",
              "      <td>0.278241</td>\n",
              "      <td>0.334192</td>\n",
              "      <td>6.391415</td>\n",
              "      <td>0.045772</td>\n",
              "      <td>35.308085</td>\n",
              "      <td>138.360657</td>\n",
              "      <td>0.994027</td>\n",
              "      <td>3.188267</td>\n",
              "      <td>0.489847</td>\n",
              "      <td>10.514267</td>\n",
              "      <td>5.877909</td>\n",
              "    </tr>\n",
              "    <tr>\n",
              "      <th>std</th>\n",
              "      <td>0.843868</td>\n",
              "      <td>0.100795</td>\n",
              "      <td>0.121020</td>\n",
              "      <td>5.072058</td>\n",
              "      <td>0.021848</td>\n",
              "      <td>17.007137</td>\n",
              "      <td>42.498065</td>\n",
              "      <td>0.002991</td>\n",
              "      <td>0.151001</td>\n",
              "      <td>0.114126</td>\n",
              "      <td>1.230621</td>\n",
              "      <td>0.885639</td>\n",
              "    </tr>\n",
              "    <tr>\n",
              "      <th>min</th>\n",
              "      <td>3.800000</td>\n",
              "      <td>0.080000</td>\n",
              "      <td>0.000000</td>\n",
              "      <td>0.600000</td>\n",
              "      <td>0.009000</td>\n",
              "      <td>2.000000</td>\n",
              "      <td>9.000000</td>\n",
              "      <td>0.987110</td>\n",
              "      <td>2.720000</td>\n",
              "      <td>0.220000</td>\n",
              "      <td>8.000000</td>\n",
              "      <td>3.000000</td>\n",
              "    </tr>\n",
              "    <tr>\n",
              "      <th>25%</th>\n",
              "      <td>6.300000</td>\n",
              "      <td>0.210000</td>\n",
              "      <td>0.270000</td>\n",
              "      <td>1.700000</td>\n",
              "      <td>0.036000</td>\n",
              "      <td>23.000000</td>\n",
              "      <td>108.000000</td>\n",
              "      <td>0.991723</td>\n",
              "      <td>3.090000</td>\n",
              "      <td>0.410000</td>\n",
              "      <td>9.500000</td>\n",
              "      <td>5.000000</td>\n",
              "    </tr>\n",
              "    <tr>\n",
              "      <th>50%</th>\n",
              "      <td>6.800000</td>\n",
              "      <td>0.260000</td>\n",
              "      <td>0.320000</td>\n",
              "      <td>5.200000</td>\n",
              "      <td>0.043000</td>\n",
              "      <td>34.000000</td>\n",
              "      <td>134.000000</td>\n",
              "      <td>0.993740</td>\n",
              "      <td>3.180000</td>\n",
              "      <td>0.470000</td>\n",
              "      <td>10.400000</td>\n",
              "      <td>6.000000</td>\n",
              "    </tr>\n",
              "    <tr>\n",
              "      <th>75%</th>\n",
              "      <td>7.300000</td>\n",
              "      <td>0.320000</td>\n",
              "      <td>0.390000</td>\n",
              "      <td>9.900000</td>\n",
              "      <td>0.050000</td>\n",
              "      <td>46.000000</td>\n",
              "      <td>167.000000</td>\n",
              "      <td>0.996100</td>\n",
              "      <td>3.280000</td>\n",
              "      <td>0.550000</td>\n",
              "      <td>11.400000</td>\n",
              "      <td>6.000000</td>\n",
              "    </tr>\n",
              "    <tr>\n",
              "      <th>max</th>\n",
              "      <td>14.200000</td>\n",
              "      <td>1.100000</td>\n",
              "      <td>1.660000</td>\n",
              "      <td>65.800000</td>\n",
              "      <td>0.346000</td>\n",
              "      <td>289.000000</td>\n",
              "      <td>440.000000</td>\n",
              "      <td>1.038980</td>\n",
              "      <td>3.820000</td>\n",
              "      <td>1.080000</td>\n",
              "      <td>14.200000</td>\n",
              "      <td>9.000000</td>\n",
              "    </tr>\n",
              "  </tbody>\n",
              "</table>\n",
              "</div>"
            ],
            "text/plain": [
              "       fixed acidity  volatile acidity  ...      alcohol      quality\n",
              "count    4898.000000       4898.000000  ...  4898.000000  4898.000000\n",
              "mean        6.854788          0.278241  ...    10.514267     5.877909\n",
              "std         0.843868          0.100795  ...     1.230621     0.885639\n",
              "min         3.800000          0.080000  ...     8.000000     3.000000\n",
              "25%         6.300000          0.210000  ...     9.500000     5.000000\n",
              "50%         6.800000          0.260000  ...    10.400000     6.000000\n",
              "75%         7.300000          0.320000  ...    11.400000     6.000000\n",
              "max        14.200000          1.100000  ...    14.200000     9.000000\n",
              "\n",
              "[8 rows x 12 columns]"
            ]
          },
          "metadata": {
            "tags": []
          },
          "execution_count": 4
        }
      ]
    },
    {
      "cell_type": "markdown",
      "metadata": {
        "id": "i2vxtMnOXi90",
        "colab_type": "text"
      },
      "source": [
        "**Checking for Missing Data**"
      ]
    },
    {
      "cell_type": "code",
      "metadata": {
        "id": "qDYOwpEUMoTw",
        "colab_type": "code",
        "colab": {
          "base_uri": "https://localhost:8080/",
          "height": 238
        },
        "outputId": "09e90e53-beab-4459-c391-e36ac97ec89b"
      },
      "source": [
        "print(red_wine.isnull().sum())"
      ],
      "execution_count": 5,
      "outputs": [
        {
          "output_type": "stream",
          "text": [
            "fixed acidity           0\n",
            "volatile acidity        0\n",
            "citric acid             0\n",
            "residual sugar          0\n",
            "chlorides               0\n",
            "free sulfur dioxide     0\n",
            "total sulfur dioxide    0\n",
            "density                 0\n",
            "pH                      0\n",
            "sulphates               0\n",
            "alcohol                 0\n",
            "quality                 0\n",
            "dtype: int64\n"
          ],
          "name": "stdout"
        }
      ]
    },
    {
      "cell_type": "code",
      "metadata": {
        "id": "qv5oRA6_MtJJ",
        "colab_type": "code",
        "colab": {
          "base_uri": "https://localhost:8080/",
          "height": 238
        },
        "outputId": "f0ea657f-6c38-4ce6-d8fb-c1c7420a632d"
      },
      "source": [
        "print(red_wine.isnull().sum())"
      ],
      "execution_count": 6,
      "outputs": [
        {
          "output_type": "stream",
          "text": [
            "fixed acidity           0\n",
            "volatile acidity        0\n",
            "citric acid             0\n",
            "residual sugar          0\n",
            "chlorides               0\n",
            "free sulfur dioxide     0\n",
            "total sulfur dioxide    0\n",
            "density                 0\n",
            "pH                      0\n",
            "sulphates               0\n",
            "alcohol                 0\n",
            "quality                 0\n",
            "dtype: int64\n"
          ],
          "name": "stdout"
        }
      ]
    },
    {
      "cell_type": "markdown",
      "metadata": {
        "id": "JmJvuCx4Xuza",
        "colab_type": "text"
      },
      "source": [
        "**Plotting the Distribution of Alcohol**"
      ]
    },
    {
      "cell_type": "code",
      "metadata": {
        "id": "wj1U071aIL2r",
        "colab_type": "code",
        "colab": {
          "base_uri": "https://localhost:8080/",
          "height": 621
        },
        "outputId": "43a7cab1-a459-48ce-cc77-1b66d4dd5678"
      },
      "source": [
        "plt.figure(figsize = (20, 10))\n",
        "plt.hist(red_wine.alcohol, facecolor = 'red', \n",
        "              alpha = 0.5, label = \"Red Wine\")\n",
        "plt.ylim([0, 1000])\n",
        "plt.xlabel(\"Alcohol in % Vol\")\n",
        "plt.ylabel(\"Frequency\")\n",
        "plt.title(\"Distribution of Alcohol in Red Wine in % Vol\")\n",
        "plt.show()"
      ],
      "execution_count": 7,
      "outputs": [
        {
          "output_type": "display_data",
          "data": {
            "image/png": "[encoded data removed]",
            "text/plain": [
              "<Figure size 1440x720 with 1 Axes>"
            ]
          },
          "metadata": {
            "tags": []
          }
        }
      ]
    },
    {
      "cell_type": "code",
      "metadata": {
        "id": "mLTIHWV5KdJJ",
        "colab_type": "code",
        "colab": {
          "base_uri": "https://localhost:8080/",
          "height": 621
        },
        "outputId": "305d3192-d6b4-4268-97c9-513ebdbd9a71"
      },
      "source": [
        "plt.figure(figsize = (20, 10))\n",
        "plt.hist(white_wine.alcohol, facecolor = 'yellow', \n",
        "              alpha = 0.5, label = \"White Wine\")\n",
        "plt.ylim([0, 1000])\n",
        "plt.xlabel(\"Alcohol in % Vol\")\n",
        "plt.ylabel(\"Frequency\")\n",
        "plt.title(\"Distribution of Alcohol in White Wine in % Vol\")\n",
        "plt.show()"
      ],
      "execution_count": 8,
      "outputs": [
        {
          "output_type": "display_data",
          "data": {
            "image/png": "[encoded data removed]",
            "text/plain": [
              "<Figure size 1440x720 with 1 Axes>"
            ]
          },
          "metadata": {
            "tags": []
          }
        }
      ]
    },
    {
      "cell_type": "markdown",
      "metadata": {
        "id": "SLVIcTdPX38I",
        "colab_type": "text"
      },
      "source": [
        "**Add `type` column to `red` with price '1' & to `white` with price '0'**\n"
      ]
    },
    {
      "cell_type": "code",
      "metadata": {
        "id": "WzhWc1URN-7c",
        "colab_type": "code",
        "colab": {}
      },
      "source": [
        "red_wine['type'] = 1\n",
        "white_wine['type'] = 0"
      ],
      "execution_count": 0,
      "outputs": []
    },
    {
      "cell_type": "markdown",
      "metadata": {
        "id": "nI2ZBL2gYYqk",
        "colab_type": "text"
      },
      "source": [
        "**Joining the Datasets**"
      ]
    },
    {
      "cell_type": "code",
      "metadata": {
        "id": "nkx8ynNfPHAA",
        "colab_type": "code",
        "colab": {
          "base_uri": "https://localhost:8080/",
          "height": 255
        },
        "outputId": "236261a0-978d-4e37-f52f-d968ae67e561"
      },
      "source": [
        "wines = red_wine.append(white_wine, ignore_index = True)\n",
        "wines.count()"
      ],
      "execution_count": 10,
      "outputs": [
        {
          "output_type": "execute_result",
          "data": {
            "text/plain": [
              "fixed acidity           6497\n",
              "volatile acidity        6497\n",
              "citric acid             6497\n",
              "residual sugar          6497\n",
              "chlorides               6497\n",
              "free sulfur dioxide     6497\n",
              "total sulfur dioxide    6497\n",
              "density                 6497\n",
              "pH                      6497\n",
              "sulphates               6497\n",
              "alcohol                 6497\n",
              "quality                 6497\n",
              "type                    6497\n",
              "dtype: int64"
            ]
          },
          "metadata": {
            "tags": []
          },
          "execution_count": 10
        }
      ]
    },
    {
      "cell_type": "markdown",
      "metadata": {
        "id": "lNisdtvmcbT4",
        "colab_type": "text"
      },
      "source": [
        "**Splitting Dependant & Independant Variables**"
      ]
    },
    {
      "cell_type": "code",
      "metadata": {
        "id": "IjM_qk6hPrP9",
        "colab_type": "code",
        "colab": {}
      },
      "source": [
        "X = wines.ix[:, 0:11]\n",
        "y = np.ravel(wines.type)"
      ],
      "execution_count": 0,
      "outputs": []
    },
    {
      "cell_type": "markdown",
      "metadata": {
        "id": "muw8LxbdeJIi",
        "colab_type": "text"
      },
      "source": [
        "**Splitting Dataset into Training & Test Sets**"
      ]
    },
    {
      "cell_type": "code",
      "metadata": {
        "id": "Mz77r-ps4oMP",
        "colab_type": "code",
        "colab": {}
      },
      "source": [
        "X_train, X_test, y_train, y_test = train_test_split(X, y, test_size = 0.2, random_state = 0)"
      ],
      "execution_count": 0,
      "outputs": []
    },
    {
      "cell_type": "markdown",
      "metadata": {
        "id": "Kkax4hJjec52",
        "colab_type": "text"
      },
      "source": [
        "**Feature Scaling**"
      ]
    },
    {
      "cell_type": "code",
      "metadata": {
        "id": "2uXqGYc54y1B",
        "colab_type": "code",
        "colab": {}
      },
      "source": [
        "sc = StandardScaler()\n",
        "X_train = sc.fit_transform(X_train)\n",
        "X_test = sc.transform(X_test)"
      ],
      "execution_count": 0,
      "outputs": []
    },
    {
      "cell_type": "code",
      "metadata": {
        "id": "9UW16X1P410g",
        "colab_type": "code",
        "colab": {
          "base_uri": "https://localhost:8080/",
          "height": 204
        },
        "outputId": "09ce2cb1-14ea-4741-e12b-a20264a87615"
      },
      "source": [
        "pd.DataFrame(X_train).head()"
      ],
      "execution_count": 14,
      "outputs": [
        {
          "output_type": "execute_result",
          "data": {
            "text/html": [
              "<div>\n",
              "<style scoped>\n",
              "    .dataframe tbody tr th:only-of-type {\n",
              "        vertical-align: middle;\n",
              "    }\n",
              "\n",
              "    .dataframe tbody tr th {\n",
              "        vertical-align: top;\n",
              "    }\n",
              "\n",
              "    .dataframe thead th {\n",
              "        text-align: right;\n",
              "    }\n",
              "</style>\n",
              "<table border=\"1\" class=\"dataframe\">\n",
              "  <thead>\n",
              "    <tr style=\"text-align: right;\">\n",
              "      <th></th>\n",
              "      <th>0</th>\n",
              "      <th>1</th>\n",
              "      <th>2</th>\n",
              "      <th>3</th>\n",
              "      <th>4</th>\n",
              "      <th>5</th>\n",
              "      <th>6</th>\n",
              "      <th>7</th>\n",
              "      <th>8</th>\n",
              "      <th>9</th>\n",
              "      <th>10</th>\n",
              "    </tr>\n",
              "  </thead>\n",
              "  <tbody>\n",
              "    <tr>\n",
              "      <th>0</th>\n",
              "      <td>-1.717476</td>\n",
              "      <td>1.628406</td>\n",
              "      <td>-1.371392</td>\n",
              "      <td>-0.879497</td>\n",
              "      <td>-1.342016</td>\n",
              "      <td>1.916457</td>\n",
              "      <td>-0.280421</td>\n",
              "      <td>-2.489573</td>\n",
              "      <td>0.261827</td>\n",
              "      <td>-1.080583</td>\n",
              "      <td>2.543580</td>\n",
              "    </tr>\n",
              "    <tr>\n",
              "      <th>1</th>\n",
              "      <td>-0.319330</td>\n",
              "      <td>-0.364311</td>\n",
              "      <td>0.559013</td>\n",
              "      <td>3.558693</td>\n",
              "      <td>-0.231910</td>\n",
              "      <td>0.970171</td>\n",
              "      <td>0.899205</td>\n",
              "      <td>2.156718</td>\n",
              "      <td>-1.797213</td>\n",
              "      <td>-0.213424</td>\n",
              "      <td>-1.506767</td>\n",
              "    </tr>\n",
              "    <tr>\n",
              "      <th>2</th>\n",
              "      <td>-1.173753</td>\n",
              "      <td>-0.726623</td>\n",
              "      <td>-0.819848</td>\n",
              "      <td>2.272261</td>\n",
              "      <td>-0.345767</td>\n",
              "      <td>0.580524</td>\n",
              "      <td>-0.051538</td>\n",
              "      <td>1.343617</td>\n",
              "      <td>0.012246</td>\n",
              "      <td>-0.480242</td>\n",
              "      <td>-1.338003</td>\n",
              "    </tr>\n",
              "    <tr>\n",
              "      <th>3</th>\n",
              "      <td>0.379742</td>\n",
              "      <td>1.628406</td>\n",
              "      <td>-0.957734</td>\n",
              "      <td>-0.643651</td>\n",
              "      <td>0.764340</td>\n",
              "      <td>-1.367712</td>\n",
              "      <td>-1.688930</td>\n",
              "      <td>0.551015</td>\n",
              "      <td>0.449012</td>\n",
              "      <td>0.453622</td>\n",
              "      <td>-0.241034</td>\n",
              "    </tr>\n",
              "    <tr>\n",
              "      <th>4</th>\n",
              "      <td>0.612767</td>\n",
              "      <td>0.481084</td>\n",
              "      <td>0.007469</td>\n",
              "      <td>-0.622211</td>\n",
              "      <td>0.678947</td>\n",
              "      <td>-0.254434</td>\n",
              "      <td>0.106919</td>\n",
              "      <td>1.135218</td>\n",
              "      <td>0.012246</td>\n",
              "      <td>3.588737</td>\n",
              "      <td>-0.662945</td>\n",
              "    </tr>\n",
              "  </tbody>\n",
              "</table>\n",
              "</div>"
            ],
            "text/plain": [
              "         0         1         2   ...        8         9         10\n",
              "0 -1.717476  1.628406 -1.371392  ...  0.261827 -1.080583  2.543580\n",
              "1 -0.319330 -0.364311  0.559013  ... -1.797213 -0.213424 -1.506767\n",
              "2 -1.173753 -0.726623 -0.819848  ...  0.012246 -0.480242 -1.338003\n",
              "3  0.379742  1.628406 -0.957734  ...  0.449012  0.453622 -0.241034\n",
              "4  0.612767  0.481084  0.007469  ...  0.012246  3.588737 -0.662945\n",
              "\n",
              "[5 rows x 11 columns]"
            ]
          },
          "metadata": {
            "tags": []
          },
          "execution_count": 14
        }
      ]
    },
    {
      "cell_type": "code",
      "metadata": {
        "id": "gSWOBT25R6VI",
        "colab_type": "code",
        "colab": {
          "base_uri": "https://localhost:8080/",
          "height": 204
        },
        "outputId": "8bfab14b-d416-49f5-c842-17082ff661e2"
      },
      "source": [
        "pd.DataFrame(X_test).head()"
      ],
      "execution_count": 15,
      "outputs": [
        {
          "output_type": "execute_result",
          "data": {
            "text/html": [
              "<div>\n",
              "<style scoped>\n",
              "    .dataframe tbody tr th:only-of-type {\n",
              "        vertical-align: middle;\n",
              "    }\n",
              "\n",
              "    .dataframe tbody tr th {\n",
              "        vertical-align: top;\n",
              "    }\n",
              "\n",
              "    .dataframe thead th {\n",
              "        text-align: right;\n",
              "    }\n",
              "</style>\n",
              "<table border=\"1\" class=\"dataframe\">\n",
              "  <thead>\n",
              "    <tr style=\"text-align: right;\">\n",
              "      <th></th>\n",
              "      <th>0</th>\n",
              "      <th>1</th>\n",
              "      <th>2</th>\n",
              "      <th>3</th>\n",
              "      <th>4</th>\n",
              "      <th>5</th>\n",
              "      <th>6</th>\n",
              "      <th>7</th>\n",
              "      <th>8</th>\n",
              "      <th>9</th>\n",
              "      <th>10</th>\n",
              "    </tr>\n",
              "  </thead>\n",
              "  <tbody>\n",
              "    <tr>\n",
              "      <th>0</th>\n",
              "      <td>-0.707704</td>\n",
              "      <td>-0.968164</td>\n",
              "      <td>-0.544076</td>\n",
              "      <td>-0.429246</td>\n",
              "      <td>-0.089588</td>\n",
              "      <td>-0.588418</td>\n",
              "      <td>0.054100</td>\n",
              "      <td>-0.326998</td>\n",
              "      <td>-0.674100</td>\n",
              "      <td>-0.080015</td>\n",
              "      <td>-1.084856</td>\n",
              "    </tr>\n",
              "    <tr>\n",
              "      <th>1</th>\n",
              "      <td>-0.319330</td>\n",
              "      <td>-1.209705</td>\n",
              "      <td>-0.957734</td>\n",
              "      <td>-0.858056</td>\n",
              "      <td>-0.260374</td>\n",
              "      <td>-0.031779</td>\n",
              "      <td>-0.456485</td>\n",
              "      <td>-1.041023</td>\n",
              "      <td>0.324222</td>\n",
              "      <td>0.053394</td>\n",
              "      <td>0.602789</td>\n",
              "    </tr>\n",
              "    <tr>\n",
              "      <th>2</th>\n",
              "      <td>0.069043</td>\n",
              "      <td>-0.726623</td>\n",
              "      <td>1.248443</td>\n",
              "      <td>1.779129</td>\n",
              "      <td>-0.203445</td>\n",
              "      <td>1.415482</td>\n",
              "      <td>1.286545</td>\n",
              "      <td>1.610096</td>\n",
              "      <td>0.137036</td>\n",
              "      <td>0.853849</td>\n",
              "      <td>-1.253620</td>\n",
              "    </tr>\n",
              "    <tr>\n",
              "      <th>3</th>\n",
              "      <td>0.302068</td>\n",
              "      <td>1.990718</td>\n",
              "      <td>-1.233506</td>\n",
              "      <td>-0.836616</td>\n",
              "      <td>0.508161</td>\n",
              "      <td>-0.310098</td>\n",
              "      <td>0.916811</td>\n",
              "      <td>-0.337247</td>\n",
              "      <td>-1.048471</td>\n",
              "      <td>-0.146719</td>\n",
              "      <td>-1.000474</td>\n",
              "    </tr>\n",
              "    <tr>\n",
              "      <th>4</th>\n",
              "      <td>0.069043</td>\n",
              "      <td>-0.787008</td>\n",
              "      <td>-0.199360</td>\n",
              "      <td>-0.815175</td>\n",
              "      <td>-0.630409</td>\n",
              "      <td>-0.087443</td>\n",
              "      <td>0.036493</td>\n",
              "      <td>-1.020525</td>\n",
              "      <td>0.511407</td>\n",
              "      <td>-0.213424</td>\n",
              "      <td>0.434024</td>\n",
              "    </tr>\n",
              "  </tbody>\n",
              "</table>\n",
              "</div>"
            ],
            "text/plain": [
              "         0         1         2   ...        8         9         10\n",
              "0 -0.707704 -0.968164 -0.544076  ... -0.674100 -0.080015 -1.084856\n",
              "1 -0.319330 -1.209705 -0.957734  ...  0.324222  0.053394  0.602789\n",
              "2  0.069043 -0.726623  1.248443  ...  0.137036  0.853849 -1.253620\n",
              "3  0.302068  1.990718 -1.233506  ... -1.048471 -0.146719 -1.000474\n",
              "4  0.069043 -0.787008 -0.199360  ...  0.511407 -0.213424  0.434024\n",
              "\n",
              "[5 rows x 11 columns]"
            ]
          },
          "metadata": {
            "tags": []
          },
          "execution_count": 15
        }
      ]
    },
    {
      "cell_type": "markdown",
      "metadata": {
        "id": "9j3RIl6QexrC",
        "colab_type": "text"
      },
      "source": [
        "**Initializing the ANN**"
      ]
    },
    {
      "cell_type": "code",
      "metadata": {
        "id": "q0-pD1cm48Uy",
        "colab_type": "code",
        "outputId": "58ebb7a9-c738-4bf0-96bf-4cf38a7d8256",
        "colab": {
          "base_uri": "https://localhost:8080/",
          "height": 71
        }
      },
      "source": [
        "classifier = Sequential()"
      ],
      "execution_count": 16,
      "outputs": [
        {
          "output_type": "stream",
          "text": [
            "WARNING:tensorflow:From /usr/local/lib/python3.6/dist-packages/keras/backend/tensorflow_backend.py:66: The name tf.get_default_graph is deprecated. Please use tf.compat.v1.get_default_graph instead.\n",
            "\n"
          ],
          "name": "stdout"
        }
      ]
    },
    {
      "cell_type": "markdown",
      "metadata": {
        "id": "Tib8WQNxgayd",
        "colab_type": "text"
      },
      "source": [
        "**Adding the Input Layer and the First Hidden Layer**"
      ]
    },
    {
      "cell_type": "code",
      "metadata": {
        "id": "HFGPhDGlSCN1",
        "colab_type": "code",
        "colab": {
          "base_uri": "https://localhost:8080/",
          "height": 105
        },
        "outputId": "3e465b96-264a-43ad-949f-de4de0cd0de7"
      },
      "source": [
        "classifier.add(Dense(output_dim = 20, init  ='uniform', activation = 'relu', input_shape = (11,)))"
      ],
      "execution_count": 17,
      "outputs": [
        {
          "output_type": "stream",
          "text": [
            "WARNING:tensorflow:From /usr/local/lib/python3.6/dist-packages/keras/backend/tensorflow_backend.py:541: The name tf.placeholder is deprecated. Please use tf.compat.v1.placeholder instead.\n",
            "\n",
            "WARNING:tensorflow:From /usr/local/lib/python3.6/dist-packages/keras/backend/tensorflow_backend.py:4432: The name tf.random_uniform is deprecated. Please use tf.random.uniform instead.\n",
            "\n"
          ],
          "name": "stdout"
        }
      ]
    },
    {
      "cell_type": "markdown",
      "metadata": {
        "id": "NIIsGxm1hMIM",
        "colab_type": "text"
      },
      "source": [
        "**Adding the 2nd Input Layer**"
      ]
    },
    {
      "cell_type": "code",
      "metadata": {
        "id": "_hQ9V_YPSTGS",
        "colab_type": "code",
        "colab": {}
      },
      "source": [
        "classifier.add(Dense(output_dim = 10, init  ='uniform', activation = 'relu'))"
      ],
      "execution_count": 0,
      "outputs": []
    },
    {
      "cell_type": "markdown",
      "metadata": {
        "id": "jOVeGbO0hYU8",
        "colab_type": "text"
      },
      "source": [
        "**Adding the Output Layer**"
      ]
    },
    {
      "cell_type": "code",
      "metadata": {
        "id": "ZAz0lf6SSVHh",
        "colab_type": "code",
        "colab": {}
      },
      "source": [
        "classifier.add(Dense(output_dim = 1, init  ='uniform', activation = 'sigmoid'))"
      ],
      "execution_count": 0,
      "outputs": []
    },
    {
      "cell_type": "markdown",
      "metadata": {
        "id": "bKrIQSl-hqtH",
        "colab_type": "text"
      },
      "source": [
        "**Compiling the ANN**"
      ]
    },
    {
      "cell_type": "code",
      "metadata": {
        "id": "V1gmeONnSYHV",
        "colab_type": "code",
        "colab": {
          "base_uri": "https://localhost:8080/",
          "height": 156
        },
        "outputId": "b8063723-d093-4934-842b-bdb16c6bb05b"
      },
      "source": [
        "classifier.compile(optimizer = 'adam', loss = 'binary_crossentropy', metrics = ['accuracy'])"
      ],
      "execution_count": 20,
      "outputs": [
        {
          "output_type": "stream",
          "text": [
            "WARNING:tensorflow:From /usr/local/lib/python3.6/dist-packages/keras/optimizers.py:793: The name tf.train.Optimizer is deprecated. Please use tf.compat.v1.train.Optimizer instead.\n",
            "\n",
            "WARNING:tensorflow:From /usr/local/lib/python3.6/dist-packages/keras/backend/tensorflow_backend.py:3657: The name tf.log is deprecated. Please use tf.math.log instead.\n",
            "\n",
            "WARNING:tensorflow:From /usr/local/lib/python3.6/dist-packages/tensorflow_core/python/ops/nn_impl.py:183: where (from tensorflow.python.ops.array_ops) is deprecated and will be removed in a future version.\n",
            "Instructions for updating:\n",
            "Use tf.where in 2.0, which has the same broadcast rule as np.where\n"
          ],
          "name": "stdout"
        }
      ]
    },
    {
      "cell_type": "markdown",
      "metadata": {
        "id": "-2qmhTBUhwgw",
        "colab_type": "text"
      },
      "source": [
        "**Fitting the ANN to the Training Set**"
      ]
    },
    {
      "cell_type": "code",
      "metadata": {
        "id": "RPNtrInqD4nS",
        "colab_type": "code",
        "colab": {
          "base_uri": "https://localhost:8080/",
          "height": 1000
        },
        "outputId": "f2e9f787-240d-47d7-fd7d-ba08a8520383"
      },
      "source": [
        "classifier.fit(X_train, y_train, batch_size = 10, epochs = 50)"
      ],
      "execution_count": 21,
      "outputs": [
        {
          "output_type": "stream",
          "text": [
            "WARNING:tensorflow:From /usr/local/lib/python3.6/dist-packages/keras/backend/tensorflow_backend.py:1033: The name tf.assign_add is deprecated. Please use tf.compat.v1.assign_add instead.\n",
            "\n",
            "WARNING:tensorflow:From /usr/local/lib/python3.6/dist-packages/keras/backend/tensorflow_backend.py:1020: The name tf.assign is deprecated. Please use tf.compat.v1.assign instead.\n",
            "\n",
            "WARNING:tensorflow:From /usr/local/lib/python3.6/dist-packages/keras/backend/tensorflow_backend.py:3005: The name tf.Session is deprecated. Please use tf.compat.v1.Session instead.\n",
            "\n",
            "Epoch 1/50\n",
            "WARNING:tensorflow:From /usr/local/lib/python3.6/dist-packages/keras/backend/tensorflow_backend.py:190: The name tf.get_default_session is deprecated. Please use tf.compat.v1.get_default_session instead.\n",
            "\n",
            "WARNING:tensorflow:From /usr/local/lib/python3.6/dist-packages/keras/backend/tensorflow_backend.py:197: The name tf.ConfigProto is deprecated. Please use tf.compat.v1.ConfigProto instead.\n",
            "\n",
            "WARNING:tensorflow:From /usr/local/lib/python3.6/dist-packages/keras/backend/tensorflow_backend.py:207: The name tf.global_variables is deprecated. Please use tf.compat.v1.global_variables instead.\n",
            "\n",
            "WARNING:tensorflow:From /usr/local/lib/python3.6/dist-packages/keras/backend/tensorflow_backend.py:216: The name tf.is_variable_initialized is deprecated. Please use tf.compat.v1.is_variable_initialized instead.\n",
            "\n",
            "WARNING:tensorflow:From /usr/local/lib/python3.6/dist-packages/keras/backend/tensorflow_backend.py:223: The name tf.variables_initializer is deprecated. Please use tf.compat.v1.variables_initializer instead.\n",
            "\n",
            "5197/5197 [==============================] - 1s 186us/step - loss: 0.2257 - acc: 0.9305\n",
            "Epoch 2/50\n",
            "5197/5197 [==============================] - 1s 132us/step - loss: 0.0384 - acc: 0.9931\n",
            "Epoch 3/50\n",
            "5197/5197 [==============================] - 1s 129us/step - loss: 0.0293 - acc: 0.9948\n",
            "Epoch 4/50\n",
            "5197/5197 [==============================] - 1s 131us/step - loss: 0.0260 - acc: 0.9952\n",
            "Epoch 5/50\n",
            "5197/5197 [==============================] - 1s 130us/step - loss: 0.0234 - acc: 0.9960\n",
            "Epoch 6/50\n",
            "5197/5197 [==============================] - 1s 127us/step - loss: 0.0217 - acc: 0.9962\n",
            "Epoch 7/50\n",
            "5197/5197 [==============================] - 1s 127us/step - loss: 0.0205 - acc: 0.9965\n",
            "Epoch 8/50\n",
            "5197/5197 [==============================] - 1s 127us/step - loss: 0.0195 - acc: 0.9965\n",
            "Epoch 9/50\n",
            "5197/5197 [==============================] - 1s 132us/step - loss: 0.0184 - acc: 0.9965\n",
            "Epoch 10/50\n",
            "5197/5197 [==============================] - 1s 130us/step - loss: 0.0181 - acc: 0.9967\n",
            "Epoch 11/50\n",
            "5197/5197 [==============================] - 1s 131us/step - loss: 0.0174 - acc: 0.9969\n",
            "Epoch 12/50\n",
            "5197/5197 [==============================] - 1s 130us/step - loss: 0.0173 - acc: 0.9965\n",
            "Epoch 13/50\n",
            "5197/5197 [==============================] - 1s 128us/step - loss: 0.0165 - acc: 0.9967\n",
            "Epoch 14/50\n",
            "5197/5197 [==============================] - 1s 134us/step - loss: 0.0164 - acc: 0.9969\n",
            "Epoch 15/50\n",
            "5197/5197 [==============================] - 1s 127us/step - loss: 0.0159 - acc: 0.9967\n",
            "Epoch 16/50\n",
            "5197/5197 [==============================] - 1s 127us/step - loss: 0.0162 - acc: 0.9965\n",
            "Epoch 17/50\n",
            "5197/5197 [==============================] - 1s 129us/step - loss: 0.0157 - acc: 0.9965\n",
            "Epoch 18/50\n",
            "5197/5197 [==============================] - 1s 129us/step - loss: 0.0154 - acc: 0.9967\n",
            "Epoch 19/50\n",
            "5197/5197 [==============================] - 1s 126us/step - loss: 0.0153 - acc: 0.9967\n",
            "Epoch 20/50\n",
            "5197/5197 [==============================] - 1s 128us/step - loss: 0.0147 - acc: 0.9965\n",
            "Epoch 21/50\n",
            "5197/5197 [==============================] - 1s 129us/step - loss: 0.0149 - acc: 0.9965\n",
            "Epoch 22/50\n",
            "5197/5197 [==============================] - 1s 127us/step - loss: 0.0147 - acc: 0.9967\n",
            "Epoch 23/50\n",
            "5197/5197 [==============================] - 1s 129us/step - loss: 0.0144 - acc: 0.9965\n",
            "Epoch 24/50\n",
            "5197/5197 [==============================] - 1s 127us/step - loss: 0.0141 - acc: 0.9965\n",
            "Epoch 25/50\n",
            "5197/5197 [==============================] - 1s 129us/step - loss: 0.0142 - acc: 0.9967\n",
            "Epoch 26/50\n",
            "5197/5197 [==============================] - 1s 128us/step - loss: 0.0139 - acc: 0.9967\n",
            "Epoch 27/50\n",
            "5197/5197 [==============================] - 1s 131us/step - loss: 0.0132 - acc: 0.9969\n",
            "Epoch 28/50\n",
            "5197/5197 [==============================] - 1s 132us/step - loss: 0.0135 - acc: 0.9965\n",
            "Epoch 29/50\n",
            "5197/5197 [==============================] - 1s 128us/step - loss: 0.0135 - acc: 0.9965\n",
            "Epoch 30/50\n",
            "5197/5197 [==============================] - 1s 130us/step - loss: 0.0131 - acc: 0.9965\n",
            "Epoch 31/50\n",
            "5197/5197 [==============================] - 1s 134us/step - loss: 0.0128 - acc: 0.9967\n",
            "Epoch 32/50\n",
            "5197/5197 [==============================] - 1s 134us/step - loss: 0.0127 - acc: 0.9967\n",
            "Epoch 33/50\n",
            "5197/5197 [==============================] - 1s 132us/step - loss: 0.0120 - acc: 0.9969\n",
            "Epoch 34/50\n",
            "5197/5197 [==============================] - 1s 133us/step - loss: 0.0125 - acc: 0.9967\n",
            "Epoch 35/50\n",
            "5197/5197 [==============================] - 1s 136us/step - loss: 0.0117 - acc: 0.9969\n",
            "Epoch 36/50\n",
            "5197/5197 [==============================] - 1s 132us/step - loss: 0.0116 - acc: 0.9967\n",
            "Epoch 37/50\n",
            "5197/5197 [==============================] - 1s 134us/step - loss: 0.0111 - acc: 0.9973\n",
            "Epoch 38/50\n",
            "5197/5197 [==============================] - 1s 131us/step - loss: 0.0108 - acc: 0.9973\n",
            "Epoch 39/50\n",
            "5197/5197 [==============================] - 1s 129us/step - loss: 0.0107 - acc: 0.9971\n",
            "Epoch 40/50\n",
            "5197/5197 [==============================] - 1s 131us/step - loss: 0.0106 - acc: 0.9969\n",
            "Epoch 41/50\n",
            "5197/5197 [==============================] - 1s 134us/step - loss: 0.0101 - acc: 0.9975\n",
            "Epoch 42/50\n",
            "5197/5197 [==============================] - 1s 128us/step - loss: 0.0101 - acc: 0.9973\n",
            "Epoch 43/50\n",
            "5197/5197 [==============================] - 1s 131us/step - loss: 0.0092 - acc: 0.9979\n",
            "Epoch 44/50\n",
            "5197/5197 [==============================] - 1s 131us/step - loss: 0.0095 - acc: 0.9973\n",
            "Epoch 45/50\n",
            "5197/5197 [==============================] - 1s 128us/step - loss: 0.0090 - acc: 0.9979\n",
            "Epoch 46/50\n",
            "5197/5197 [==============================] - 1s 134us/step - loss: 0.0094 - acc: 0.9975\n",
            "Epoch 47/50\n",
            "5197/5197 [==============================] - 1s 126us/step - loss: 0.0086 - acc: 0.9979\n",
            "Epoch 48/50\n",
            "5197/5197 [==============================] - 1s 130us/step - loss: 0.0085 - acc: 0.9979\n",
            "Epoch 49/50\n",
            "5197/5197 [==============================] - 1s 131us/step - loss: 0.0083 - acc: 0.9979\n",
            "Epoch 50/50\n",
            "5197/5197 [==============================] - 1s 132us/step - loss: 0.0078 - acc: 0.9983\n"
          ],
          "name": "stdout"
        },
        {
          "output_type": "execute_result",
          "data": {
            "text/plain": [
              "<keras.callbacks.History at 0x7fdc1953d438>"
            ]
          },
          "metadata": {
            "tags": []
          },
          "execution_count": 21
        }
      ]
    },
    {
      "cell_type": "markdown",
      "metadata": {
        "id": "Yjof-urRiEoj",
        "colab_type": "text"
      },
      "source": [
        "**Visualizing the ANN**"
      ]
    },
    {
      "cell_type": "code",
      "metadata": {
        "id": "b3LuFoVETCLR",
        "colab_type": "code",
        "colab": {
          "base_uri": "https://localhost:8080/",
          "height": 422
        },
        "outputId": "a449c354-3f60-4124-9a60-97450e22ec9d"
      },
      "source": [
        "plot_model(classifier, show_shapes = True, show_layer_names = True)"
      ],
      "execution_count": 22,
      "outputs": [
        {
          "output_type": "execute_result",
          "data": {
            "image/png": "[encoded data removed]",
            "text/plain": [
              "<IPython.core.display.Image object>"
            ]
          },
          "metadata": {
            "tags": []
          },
          "execution_count": 22
        }
      ]
    },
    {
      "cell_type": "markdown",
      "metadata": {
        "id": "z37AYFRpifQF",
        "colab_type": "text"
      },
      "source": [
        "**Predicting the Results**"
      ]
    },
    {
      "cell_type": "code",
      "metadata": {
        "id": "l1y-5ZJvT0P7",
        "colab_type": "code",
        "colab": {
          "base_uri": "https://localhost:8080/",
          "height": 136
        },
        "outputId": "360e8234-ee7b-42f9-f963-626e661c3c09"
      },
      "source": [
        "y_pred = classifier.predict(X_test)\n",
        "y_pred = (y_pred > 0.5)\n",
        "y_pred"
      ],
      "execution_count": 23,
      "outputs": [
        {
          "output_type": "execute_result",
          "data": {
            "text/plain": [
              "array([[False],\n",
              "       [False],\n",
              "       [False],\n",
              "       ...,\n",
              "       [ True],\n",
              "       [False],\n",
              "       [False]])"
            ]
          },
          "metadata": {
            "tags": []
          },
          "execution_count": 23
        }
      ]
    },
    {
      "cell_type": "markdown",
      "metadata": {
        "id": "mOND9GM4ipo_",
        "colab_type": "text"
      },
      "source": [
        "**Making Confusion Matrix**"
      ]
    },
    {
      "cell_type": "code",
      "metadata": {
        "id": "dRZ1EVWWWIL3",
        "colab_type": "code",
        "colab": {
          "base_uri": "https://localhost:8080/",
          "height": 51
        },
        "outputId": "3f679a5c-654f-410b-d3c7-06fe6c191718"
      },
      "source": [
        "cm = confusion_matrix(y_test, y_pred)\n",
        "cm"
      ],
      "execution_count": 24,
      "outputs": [
        {
          "output_type": "execute_result",
          "data": {
            "text/plain": [
              "array([[984,   5],\n",
              "       [  3, 308]])"
            ]
          },
          "metadata": {
            "tags": []
          },
          "execution_count": 24
        }
      ]
    },
    {
      "cell_type": "markdown",
      "metadata": {
        "id": "vcokLjTqi-uv",
        "colab_type": "text"
      },
      "source": [
        "**Generating Accuracy & F1 Score**"
      ]
    },
    {
      "cell_type": "code",
      "metadata": {
        "id": "1RCc1sZhWeP-",
        "colab_type": "code",
        "colab": {
          "base_uri": "https://localhost:8080/",
          "height": 51
        },
        "outputId": "c25ed622-6540-42fc-ab9c-09ca6ff78f33"
      },
      "source": [
        "F1_Score = f1_score(y_test, y_pred)\n",
        "acs = accuracy_score(y_test, y_pred)\n",
        "print('Accuracy = %s' % (acs),\n",
        "      '\\nF1 Score = %s' % (F1_Score))"
      ],
      "execution_count": 25,
      "outputs": [
        {
          "output_type": "stream",
          "text": [
            "Accuracy = 0.9938461538461538 \n",
            "F1 Score = 0.9871794871794871\n"
          ],
          "name": "stdout"
        }
      ]
    }
  ]
}